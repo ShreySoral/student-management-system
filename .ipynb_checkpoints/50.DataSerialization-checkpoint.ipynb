{
 "cells": [
  {
   "cell_type": "code",
   "execution_count": 1,
   "id": "cc2f291e",
   "metadata": {},
   "outputs": [
    {
     "name": "stdout",
     "output_type": "stream",
     "text": [
      "C:\\Users\\Shruy\\Desktop\\Computer science\\Python\\Advanced Python\n"
     ]
    }
   ],
   "source": [
    "import os\n",
    "curr_path=os.getcwd()\n",
    "print(curr_path)"
   ]
  },
  {
   "cell_type": "code",
   "execution_count": 3,
   "id": "b3371460",
   "metadata": {},
   "outputs": [],
   "source": [
    "path=\"records.csv\""
   ]
  },
  {
   "cell_type": "code",
   "execution_count": 4,
   "id": "ecc8cd7c",
   "metadata": {},
   "outputs": [],
   "source": [
    "# with statement is used to manage context in python program"
   ]
  },
  {
   "cell_type": "markdown",
   "id": "dad769cf",
   "metadata": {},
   "source": [
    " \"w\" --> permission --> write"
   ]
  },
  {
   "cell_type": "code",
   "execution_count": 5,
   "id": "0e5d55e9",
   "metadata": {},
   "outputs": [
    {
     "name": "stdout",
     "output_type": "stream",
     "text": [
      " \"\"\"Name,Maths,Chemistry,Physics\n",
      "Sachin,80,70,60\n",
      "Rajat,80,80,80\n",
      "Simran,50,70,80\n",
      "Ravi,60,70,90\n",
      "Shivani,80,60,70\"\"\"\n"
     ]
    },
    {
     "data": {
      "text/plain": [
       "<function TextIOWrapper.close()>"
      ]
     },
     "execution_count": 5,
     "metadata": {},
     "output_type": "execute_result"
    }
   ],
   "source": [
    "file=open(\"records.csv\",\"r\")\n",
    "content=file.read()\n",
    "print(content)\n",
    "file.close"
   ]
  },
  {
   "cell_type": "code",
   "execution_count": 6,
   "id": "5fdbd40e",
   "metadata": {},
   "outputs": [
    {
     "name": "stdout",
     "output_type": "stream",
     "text": [
      "hello\n"
     ]
    }
   ],
   "source": [
    "with open(\"records.csv\",\"r\") as file:\n",
    "    print(\"hello\")"
   ]
  },
  {
   "cell_type": "code",
   "execution_count": 7,
   "id": "7bcd10b8",
   "metadata": {},
   "outputs": [
    {
     "data": {
      "text/plain": [
       "True"
      ]
     },
     "execution_count": 7,
     "metadata": {},
     "output_type": "execute_result"
    }
   ],
   "source": [
    "file.closed"
   ]
  },
  {
   "cell_type": "code",
   "execution_count": 8,
   "id": "231ec732",
   "metadata": {},
   "outputs": [
    {
     "ename": "TypeError",
     "evalue": "write() argument must be str, not int",
     "output_type": "error",
     "traceback": [
      "\u001b[1;31m---------------------------------------------------------------------------\u001b[0m",
      "\u001b[1;31mTypeError\u001b[0m                                 Traceback (most recent call last)",
      "Input \u001b[1;32mIn [8]\u001b[0m, in \u001b[0;36m<cell line: 2>\u001b[1;34m()\u001b[0m\n\u001b[0;32m      1\u001b[0m fp\u001b[38;5;241m=\u001b[39m\u001b[38;5;28mopen\u001b[39m(\u001b[38;5;124m'\u001b[39m\u001b[38;5;124mabcd.txt\u001b[39m\u001b[38;5;124m'\u001b[39m,\u001b[38;5;124m'\u001b[39m\u001b[38;5;124mw\u001b[39m\u001b[38;5;124m'\u001b[39m)\n\u001b[1;32m----> 2\u001b[0m \u001b[43mfp\u001b[49m\u001b[38;5;241;43m.\u001b[39;49m\u001b[43mwrite\u001b[49m\u001b[43m(\u001b[49m\u001b[38;5;241;43m100\u001b[39;49m\u001b[43m)\u001b[49m\n",
      "\u001b[1;31mTypeError\u001b[0m: write() argument must be str, not int"
     ]
    }
   ],
   "source": [
    "fp=open('abcd.txt','w')\n",
    "fp.write(100)"
   ]
  },
  {
   "cell_type": "code",
   "execution_count": 14,
   "id": "68c8595a",
   "metadata": {},
   "outputs": [
    {
     "name": "stdout",
     "output_type": "stream",
     "text": [
      "['sachin', 1, 2, 3]\n"
     ]
    }
   ],
   "source": [
    "lst=[\"sachin\",\"80\",\"90\",\"100\"]\n",
    "lst[-3:]=[1,2,3]\n",
    "print(lst)"
   ]
  },
  {
   "cell_type": "code",
   "execution_count": 16,
   "id": "571f3246",
   "metadata": {},
   "outputs": [
    {
     "name": "stdout",
     "output_type": "stream",
     "text": [
      "[4, 4, 7, 5]\n"
     ]
    }
   ],
   "source": [
    "one=[1,2,3,4]\n",
    "two=[3,2,4,1]\n",
    "three=list(map(lambda a,b:a+b, one,two))\n",
    "print(three)"
   ]
  },
  {
   "cell_type": "code",
   "execution_count": 15,
   "id": "19d14258",
   "metadata": {},
   "outputs": [
    {
     "name": "stdout",
     "output_type": "stream",
     "text": [
      "['sachin', '80', '90', '100']\n"
     ]
    }
   ],
   "source": [
    "record=[\"sachin\",80,90,100]\n",
    "record[-3:]=map(str,record[-3:])\n",
    "print(record)"
   ]
  },
  {
   "cell_type": "code",
   "execution_count": 12,
   "id": "3d112afc",
   "metadata": {},
   "outputs": [
    {
     "name": "stdout",
     "output_type": "stream",
     "text": [
      "[80, 90, 30]\n"
     ]
    }
   ],
   "source": [
    "lst=[\"80\",\"90\",\"30\"]\n",
    "new_lst=list(map(int,lst))\n",
    "print(new_lst)"
   ]
  },
  {
   "cell_type": "code",
   "execution_count": 20,
   "id": "86ee3af2",
   "metadata": {},
   "outputs": [],
   "source": [
    "def add_new_record(record):\n",
    "    #record=[sachin,80,80,80]\n",
    "    record[-3:]=map(str,record[-3:])\n",
    "    line=\"\\n\" + \",\".join(record)\n",
    "    #line=\\nsachin,80,80,80\n",
    "    with open(\"records.csv\",\"a\") as file:\n",
    "        file.write(line)\n",
    "        print(\"record updated\")"
   ]
  },
  {
   "cell_type": "code",
   "execution_count": 21,
   "id": "334e3f81",
   "metadata": {},
   "outputs": [
    {
     "name": "stdout",
     "output_type": "stream",
     "text": [
      "record updated\n"
     ]
    }
   ],
   "source": [
    "add_new_record([\"Gaurav\",78,88,66])"
   ]
  },
  {
   "cell_type": "code",
   "execution_count": 22,
   "id": "51613f84",
   "metadata": {},
   "outputs": [
    {
     "name": "stdout",
     "output_type": "stream",
     "text": [
      "record updated\n"
     ]
    }
   ],
   "source": [
    "add_new_record([\"Vijay\",88,89,87])"
   ]
  },
  {
   "cell_type": "code",
   "execution_count": null,
   "id": "f3b87e04",
   "metadata": {},
   "outputs": [],
   "source": [
    "def search_record(name):\n",
    "    #name=\"SACHIN\"\n",
    "    "
   ]
  }
 ],
 "metadata": {
  "kernelspec": {
   "display_name": "Python 3 (ipykernel)",
   "language": "python",
   "name": "python3"
  },
  "language_info": {
   "codemirror_mode": {
    "name": "ipython",
    "version": 3
   },
   "file_extension": ".py",
   "mimetype": "text/x-python",
   "name": "python",
   "nbconvert_exporter": "python",
   "pygments_lexer": "ipython3",
   "version": "3.10.5"
  }
 },
 "nbformat": 4,
 "nbformat_minor": 5
}
