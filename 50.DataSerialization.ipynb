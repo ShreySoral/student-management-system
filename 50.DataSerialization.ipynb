{
 "cells": [
  {
   "cell_type": "code",
   "execution_count": 1,
   "metadata": {},
   "outputs": [
    {
     "name": "stdout",
     "output_type": "stream",
     "text": [
      "c:\\Users\\Sachi\\Grras Solution Pvt. Ltd\\Python_107_hindi_8Aug_6pm - Live Class 📺\\ClassCode\\Advance Python\\50.DataSerialization\n"
     ]
    }
   ],
   "source": [
    "import os\n",
    "\n",
    "curr_path = os.getcwd()\n",
    "print(curr_path)"
   ]
  },
  {
   "cell_type": "code",
   "execution_count": 2,
   "metadata": {},
   "outputs": [],
   "source": [
    "path = \"records.csv\""
   ]
  },
  {
   "cell_type": "markdown",
   "metadata": {},
   "source": [
    "`with` statement is used to manage context in python program"
   ]
  },
  {
   "cell_type": "code",
   "execution_count": 3,
   "metadata": {},
   "outputs": [],
   "source": [
    "file = open(\"records.csv\", \"r\")\n",
    "content = file.read()\n",
    "file.close()"
   ]
  },
  {
   "cell_type": "code",
   "execution_count": 5,
   "metadata": {},
   "outputs": [
    {
     "name": "stdout",
     "output_type": "stream",
     "text": [
      "Name,Maths,Chemistry,Physics\n",
      "Sachin,80,70,60\n",
      "Rajat,80,80,80\n",
      "Simran,50,70,80\n",
      "Ravi,60,70,90\n",
      "Shivani,80,60,70\n"
     ]
    }
   ],
   "source": [
    "print(content)"
   ]
  },
  {
   "cell_type": "code",
   "execution_count": 6,
   "metadata": {},
   "outputs": [
    {
     "data": {
      "text/plain": [
       "True"
      ]
     },
     "execution_count": 6,
     "metadata": {},
     "output_type": "execute_result"
    }
   ],
   "source": [
    "file.closed"
   ]
  },
  {
   "cell_type": "code",
   "execution_count": 7,
   "metadata": {},
   "outputs": [],
   "source": [
    "fp = open(\"records.csv\")"
   ]
  },
  {
   "cell_type": "code",
   "execution_count": 8,
   "metadata": {},
   "outputs": [
    {
     "data": {
      "text/plain": [
       "False"
      ]
     },
     "execution_count": 8,
     "metadata": {},
     "output_type": "execute_result"
    }
   ],
   "source": [
    "fp.closed"
   ]
  },
  {
   "cell_type": "code",
   "execution_count": 9,
   "metadata": {},
   "outputs": [],
   "source": [
    "fp.close()"
   ]
  },
  {
   "cell_type": "code",
   "execution_count": 10,
   "metadata": {},
   "outputs": [
    {
     "data": {
      "text/plain": [
       "True"
      ]
     },
     "execution_count": 10,
     "metadata": {},
     "output_type": "execute_result"
    }
   ],
   "source": [
    "fp.closed"
   ]
  },
  {
   "cell_type": "code",
   "execution_count": 11,
   "metadata": {},
   "outputs": [
    {
     "name": "stdout",
     "output_type": "stream",
     "text": [
      "hello\n"
     ]
    }
   ],
   "source": [
    "with open(\"records.csv\", \"r\") as file:\n",
    "    print(\"hello\")"
   ]
  },
  {
   "cell_type": "code",
   "execution_count": 12,
   "metadata": {},
   "outputs": [
    {
     "data": {
      "text/plain": [
       "True"
      ]
     },
     "execution_count": 12,
     "metadata": {},
     "output_type": "execute_result"
    }
   ],
   "source": [
    "file.closed"
   ]
  },
  {
   "cell_type": "code",
   "execution_count": 13,
   "metadata": {},
   "outputs": [
    {
     "ename": "TypeError",
     "evalue": "write() argument must be str, not int",
     "output_type": "error",
     "traceback": [
      "\u001b[1;31m---------------------------------------------------------------------------\u001b[0m",
      "\u001b[1;31mTypeError\u001b[0m                                 Traceback (most recent call last)",
      "\u001b[1;32m~\\AppData\\Local\\Temp\\ipykernel_13100\\3966058921.py\u001b[0m in \u001b[0;36m<module>\u001b[1;34m\u001b[0m\n\u001b[0;32m      1\u001b[0m \u001b[0mfp\u001b[0m \u001b[1;33m=\u001b[0m \u001b[0mopen\u001b[0m\u001b[1;33m(\u001b[0m\u001b[1;34m'abcd.txt'\u001b[0m\u001b[1;33m,\u001b[0m \u001b[1;34m'w'\u001b[0m\u001b[1;33m)\u001b[0m\u001b[1;33m\u001b[0m\u001b[1;33m\u001b[0m\u001b[0m\n\u001b[1;32m----> 2\u001b[1;33m \u001b[0mfp\u001b[0m\u001b[1;33m.\u001b[0m\u001b[0mwrite\u001b[0m\u001b[1;33m(\u001b[0m\u001b[1;36m100\u001b[0m\u001b[1;33m)\u001b[0m\u001b[1;33m\u001b[0m\u001b[1;33m\u001b[0m\u001b[0m\n\u001b[0m",
      "\u001b[1;31mTypeError\u001b[0m: write() argument must be str, not int"
     ]
    }
   ],
   "source": [
    "fp = open('abcd.txt', 'w')\n",
    "fp.write(100)"
   ]
  },
  {
   "cell_type": "code",
   "execution_count": null,
   "metadata": {},
   "outputs": [],
   "source": []
  },
  {
   "cell_type": "markdown",
   "metadata": {},
   "source": [
    "`map(function, sequence)`"
   ]
  },
  {
   "cell_type": "code",
   "execution_count": 20,
   "metadata": {},
   "outputs": [
    {
     "name": "stdout",
     "output_type": "stream",
     "text": [
      "['sachin', 1, 2, 3]\n"
     ]
    }
   ],
   "source": [
    "lst = [\"sachin\", \"80\", \"90\", \"100\"]\n",
    "\n",
    "lst[-3:] = [1, 2, 3]\n",
    "print(lst)"
   ]
  },
  {
   "cell_type": "code",
   "execution_count": null,
   "metadata": {},
   "outputs": [],
   "source": []
  },
  {
   "cell_type": "code",
   "execution_count": null,
   "metadata": {},
   "outputs": [],
   "source": []
  },
  {
   "cell_type": "code",
   "execution_count": 22,
   "metadata": {},
   "outputs": [
    {
     "name": "stdout",
     "output_type": "stream",
     "text": [
      "[4, 4, 7, 5]\n"
     ]
    }
   ],
   "source": [
    "one = [1, 2, 3, 4, ]\n",
    "two = [3, 2, 4, 1]\n",
    "\n",
    "three = list(map(lambda a,b:a+b,  one, two ))\n",
    "print(three)"
   ]
  },
  {
   "cell_type": "code",
   "execution_count": null,
   "metadata": {},
   "outputs": [],
   "source": []
  },
  {
   "cell_type": "code",
   "execution_count": 21,
   "metadata": {},
   "outputs": [
    {
     "name": "stdout",
     "output_type": "stream",
     "text": [
      "['sachin', '80', '90', '100']\n"
     ]
    }
   ],
   "source": [
    "record = [\"sachin\", 80, 90, 100]\n",
    "\n",
    "record[-3:] = map(str, record[-3:])\n",
    "\n",
    "print(record)"
   ]
  },
  {
   "cell_type": "code",
   "execution_count": 15,
   "metadata": {},
   "outputs": [
    {
     "name": "stdout",
     "output_type": "stream",
     "text": [
      "[80, 90, 30]\n"
     ]
    }
   ],
   "source": [
    "lst = [\"80\", \"90\", \"30\"]\n",
    "\n",
    "new_lst = list(map(int, lst))\n",
    "\n",
    "print(new_lst)"
   ]
  },
  {
   "cell_type": "code",
   "execution_count": null,
   "metadata": {},
   "outputs": [],
   "source": []
  },
  {
   "cell_type": "code",
   "execution_count": 14,
   "metadata": {},
   "outputs": [],
   "source": [
    "def add_new_record(record):\n",
    "    # record =  [\"sachin\", 80, 80, 80]\n",
    "    record[1] = str(record[1]) # \n",
    "    record[2] = str(record[2])\n",
    "    record[3] = str(record[3])\n",
    "    # record = [\"sachin\", \"80\", \"80\", \"80\"]\n",
    "    line = \"\\n\"+ \",\".join(record)\n",
    "    # line = \"\\nsachin,80,80,80\"\n",
    "    with open(\"records.csv\", \"a\") as file:\n",
    "        file.write(line)\n",
    "    \n"
   ]
  },
  {
   "cell_type": "code",
   "execution_count": 24,
   "metadata": {},
   "outputs": [],
   "source": [
    "def add_new_record(record):\n",
    "    # record =  [\"sachin\", 80, 80, 80]\n",
    "    record[-3:] = map(str, record[-3:])\n",
    "    # record = [\"sachin\", \"80\", \"80\", \"80\"]\n",
    "    line = \"\\n\"+ \",\".join(record)\n",
    "    # line = \"\\nsachin,80,80,80\"\n",
    "    with open(\"records.csv\", \"a\") as file:\n",
    "        file.write(line)\n",
    "        print(\"!Record Updated Sucessfully!\")\n",
    "    \n"
   ]
  },
  {
   "cell_type": "code",
   "execution_count": 25,
   "metadata": {},
   "outputs": [
    {
     "name": "stdout",
     "output_type": "stream",
     "text": [
      "!Record Updated Sucessfully!\n"
     ]
    }
   ],
   "source": [
    "add_new_record([\"Gaurav\", 78, 88, 66])"
   ]
  },
  {
   "cell_type": "code",
   "execution_count": 26,
   "metadata": {},
   "outputs": [
    {
     "name": "stdout",
     "output_type": "stream",
     "text": [
      "!Record Updated Sucessfully!\n"
     ]
    }
   ],
   "source": [
    "add_new_record([\"vijay\", 88, 89, 87])"
   ]
  },
  {
   "cell_type": "code",
   "execution_count": 27,
   "metadata": {},
   "outputs": [],
   "source": [
    "fp = open(\"records.csv\", \"r\")"
   ]
  },
  {
   "cell_type": "code",
   "execution_count": 28,
   "metadata": {},
   "outputs": [],
   "source": [
    "line = fp.readline()"
   ]
  },
  {
   "cell_type": "code",
   "execution_count": 29,
   "metadata": {},
   "outputs": [
    {
     "name": "stdout",
     "output_type": "stream",
     "text": [
      "'Name,Maths,Chemistry,Physics\\n'\n"
     ]
    }
   ],
   "source": [
    "\n",
    "print(repr(line))"
   ]
  },
  {
   "cell_type": "code",
   "execution_count": 35,
   "metadata": {},
   "outputs": [
    {
     "name": "stdout",
     "output_type": "stream",
     "text": [
      "'Rajat,80,80,80\\n'\n"
     ]
    }
   ],
   "source": [
    "line = fp.readline()\n",
    "print(repr(line))"
   ]
  },
  {
   "cell_type": "code",
   "execution_count": 36,
   "metadata": {},
   "outputs": [
    {
     "name": "stdout",
     "output_type": "stream",
     "text": [
      "['Rajat', '80', '80', '80']\n",
      "Rajat\n"
     ]
    }
   ],
   "source": [
    "line = line.strip().split(\",\")\n",
    "print(line)\n",
    "st = line[0]\n",
    "print(st)"
   ]
  },
  {
   "cell_type": "code",
   "execution_count": 37,
   "metadata": {},
   "outputs": [
    {
     "data": {
      "text/plain": [
       "0"
      ]
     },
     "execution_count": 37,
     "metadata": {},
     "output_type": "execute_result"
    }
   ],
   "source": [
    "fp.seek(0)"
   ]
  },
  {
   "cell_type": "code",
   "execution_count": 38,
   "metadata": {},
   "outputs": [
    {
     "data": {
      "text/plain": [
       "'Name,Maths,Chemistry,Physics\\n'"
      ]
     },
     "execution_count": 38,
     "metadata": {},
     "output_type": "execute_result"
    }
   ],
   "source": [
    "fp.readline()"
   ]
  },
  {
   "cell_type": "code",
   "execution_count": 39,
   "metadata": {},
   "outputs": [
    {
     "name": "stdout",
     "output_type": "stream",
     "text": [
      "'Sachin,80,70,60\\n'\n",
      "'Rajat,80,80,80\\n'\n",
      "'Simran,50,70,80\\n'\n",
      "'Ravi,60,70,90\\n'\n",
      "'Shivani,80,60,70\\n'\n",
      "'Gaurav,78,88,66\\n'\n",
      "'vijay,88,89,87'\n"
     ]
    }
   ],
   "source": [
    "for line in fp:\n",
    "    print(repr(line))"
   ]
  },
  {
   "cell_type": "code",
   "execution_count": 40,
   "metadata": {},
   "outputs": [],
   "source": [
    "def search_record(key):\n",
    "    key = key.strip().lower()\n",
    "    with open(\"records.csv\", \"r\") as file:\n",
    "        file.readline() # reading header\n",
    "        for line in file:\n",
    "            if line==\"\\n\":\n",
    "                continue\n",
    "            # line = 'Sachin,80,70,60\\n'\n",
    "            line = line.strip().split(\",\")\n",
    "            # line = [\"Sachin\", \"80\", \"70\", \"60\"]\n",
    "            name = line[0].strip().lower()\n",
    "            if name == key:\n",
    "                per = sum(map(int, line[-3:]))/3\n",
    "                print(f\"       Name        =  {name}\")\n",
    "                print(f\"       Maths       =  {line[1]}\")\n",
    "                print(f\"       Chemistry   =  {line[2]}\")\n",
    "                print(f\"       Physics     =  {line[3]}\")\n",
    "\n",
    "                print(f\"\\n      Percentage  = {per:.2f}\")\n",
    "\n",
    "                print(\"\\n\", \"_\"*50, \"\\n\")\n",
    "                \n",
    "\n",
    "\n",
    "    # key = \"SAchIN\"\n",
    "    # \"Sachin,80,70,60\\n\"\n",
    "    "
   ]
  },
  {
   "cell_type": "code",
   "execution_count": 43,
   "metadata": {},
   "outputs": [
    {
     "name": "stdout",
     "output_type": "stream",
     "text": [
      "       Name        =  sachin\n",
      "       Maths       =  80\n",
      "       Chemistry   =  70\n",
      "       Physics     =  60\n",
      "\n",
      "      Percentage  = 70.00\n",
      "\n",
      " __________________________________________________ \n",
      "\n",
      "       Name        =  sachin\n",
      "       Maths       =  90\n",
      "       Chemistry   =  100\n",
      "       Physics     =  100\n",
      "\n",
      "      Percentage  = 96.67\n",
      "\n",
      " __________________________________________________ \n",
      "\n"
     ]
    }
   ],
   "source": [
    "search_record(\"sachin\")"
   ]
  },
  {
   "cell_type": "markdown",
   "metadata": {},
   "source": [
    "Inventory Application"
   ]
  },
  {
   "cell_type": "markdown",
   "metadata": {},
   "source": []
  }
 ],
 "metadata": {
  "kernelspec": {
   "display_name": "Python 3.9.13 ('base')",
   "language": "python",
   "name": "python3"
  },
  "language_info": {
   "codemirror_mode": {
    "name": "ipython",
    "version": 3
   },
   "file_extension": ".py",
   "mimetype": "text/x-python",
   "name": "python",
   "nbconvert_exporter": "python",
   "pygments_lexer": "ipython3",
   "version": "3.9.13"
  },
  "orig_nbformat": 4,
  "vscode": {
   "interpreter": {
    "hash": "ad2bdc8ecc057115af97d19610ffacc2b4e99fae6737bb82f5d7fb13d2f2c186"
   }
  }
 },
 "nbformat": 4,
 "nbformat_minor": 2
}
